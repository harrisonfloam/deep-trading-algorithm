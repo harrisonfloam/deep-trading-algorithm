{
 "cells": [
  {
   "cell_type": "code",
   "execution_count": 1,
   "metadata": {},
   "outputs": [],
   "source": [
    "%load_ext autoreload\n",
    "%autoreload 2"
   ]
  },
  {
   "cell_type": "markdown",
   "metadata": {},
   "source": [
    "Data Preprocessing and Loading"
   ]
  },
  {
   "cell_type": "code",
   "execution_count": 2,
   "metadata": {},
   "outputs": [
    {
     "name": "stdout",
     "output_type": "stream",
     "text": [
      "Data loaded --------- data/bitstampUSD_1-min_data_2012-01-01_to_2021-03-31.csv\n",
      "Using data from 2020-03-31 00:00:00 to 2021-03-31 00:00:00 with 525600 rows and 12 columns\n"
     ]
    },
    {
     "data": {
      "text/html": [
       "<div>\n",
       "<style scoped>\n",
       "    .dataframe tbody tr th:only-of-type {\n",
       "        vertical-align: middle;\n",
       "    }\n",
       "\n",
       "    .dataframe tbody tr th {\n",
       "        vertical-align: top;\n",
       "    }\n",
       "\n",
       "    .dataframe thead th {\n",
       "        text-align: right;\n",
       "    }\n",
       "</style>\n",
       "<table border=\"1\" class=\"dataframe\">\n",
       "  <thead>\n",
       "    <tr style=\"text-align: right;\">\n",
       "      <th></th>\n",
       "      <th>Open</th>\n",
       "      <th>High</th>\n",
       "      <th>Low</th>\n",
       "      <th>Close</th>\n",
       "      <th>Volume_(BTC)</th>\n",
       "      <th>Volume_(Currency)</th>\n",
       "      <th>Weighted_Price</th>\n",
       "      <th>SMA</th>\n",
       "      <th>RSI</th>\n",
       "      <th>MACD</th>\n",
       "      <th>log_ret</th>\n",
       "      <th>percent_ret</th>\n",
       "    </tr>\n",
       "    <tr>\n",
       "      <th>Timestamp</th>\n",
       "      <th></th>\n",
       "      <th></th>\n",
       "      <th></th>\n",
       "      <th></th>\n",
       "      <th></th>\n",
       "      <th></th>\n",
       "      <th></th>\n",
       "      <th></th>\n",
       "      <th></th>\n",
       "      <th></th>\n",
       "      <th></th>\n",
       "      <th></th>\n",
       "    </tr>\n",
       "  </thead>\n",
       "  <tbody>\n",
       "    <tr>\n",
       "      <th>2020-03-31 00:00:00</th>\n",
       "      <td>0.386341</td>\n",
       "      <td>0.384774</td>\n",
       "      <td>0.385301</td>\n",
       "      <td>0.384527</td>\n",
       "      <td>0.000328</td>\n",
       "      <td>0.003033</td>\n",
       "      <td>0.384227</td>\n",
       "      <td>0.017614</td>\n",
       "      <td>0.320169</td>\n",
       "      <td>0.685930</td>\n",
       "      <td>0.519628</td>\n",
       "      <td>0.508936</td>\n",
       "    </tr>\n",
       "    <tr>\n",
       "      <th>2020-03-31 00:01:00</th>\n",
       "      <td>0.385020</td>\n",
       "      <td>0.384380</td>\n",
       "      <td>0.385471</td>\n",
       "      <td>0.385526</td>\n",
       "      <td>0.003681</td>\n",
       "      <td>0.005287</td>\n",
       "      <td>0.384560</td>\n",
       "      <td>0.017514</td>\n",
       "      <td>0.370988</td>\n",
       "      <td>0.686233</td>\n",
       "      <td>0.551603</td>\n",
       "      <td>0.540999</td>\n",
       "    </tr>\n",
       "    <tr>\n",
       "      <th>2020-03-31 00:02:00</th>\n",
       "      <td>0.386348</td>\n",
       "      <td>0.386972</td>\n",
       "      <td>0.386856</td>\n",
       "      <td>0.388220</td>\n",
       "      <td>0.017017</td>\n",
       "      <td>0.014283</td>\n",
       "      <td>0.386968</td>\n",
       "      <td>0.017452</td>\n",
       "      <td>0.482987</td>\n",
       "      <td>0.690373</td>\n",
       "      <td>0.574384</td>\n",
       "      <td>0.563896</td>\n",
       "    </tr>\n",
       "    <tr>\n",
       "      <th>2020-03-31 00:03:00</th>\n",
       "      <td>0.387491</td>\n",
       "      <td>0.387713</td>\n",
       "      <td>0.388002</td>\n",
       "      <td>0.388424</td>\n",
       "      <td>0.006512</td>\n",
       "      <td>0.007205</td>\n",
       "      <td>0.387528</td>\n",
       "      <td>0.017389</td>\n",
       "      <td>0.490484</td>\n",
       "      <td>0.694151</td>\n",
       "      <td>0.540866</td>\n",
       "      <td>0.530223</td>\n",
       "    </tr>\n",
       "    <tr>\n",
       "      <th>2020-03-31 00:04:00</th>\n",
       "      <td>0.388706</td>\n",
       "      <td>0.388822</td>\n",
       "      <td>0.388938</td>\n",
       "      <td>0.390102</td>\n",
       "      <td>0.008228</td>\n",
       "      <td>0.008369</td>\n",
       "      <td>0.388490</td>\n",
       "      <td>0.017396</td>\n",
       "      <td>0.547845</td>\n",
       "      <td>0.699569</td>\n",
       "      <td>0.560651</td>\n",
       "      <td>0.550087</td>\n",
       "    </tr>\n",
       "  </tbody>\n",
       "</table>\n",
       "</div>"
      ],
      "text/plain": [
       "                         Open      High       Low     Close  Volume_(BTC)  \\\n",
       "Timestamp                                                                   \n",
       "2020-03-31 00:00:00  0.386341  0.384774  0.385301  0.384527      0.000328   \n",
       "2020-03-31 00:01:00  0.385020  0.384380  0.385471  0.385526      0.003681   \n",
       "2020-03-31 00:02:00  0.386348  0.386972  0.386856  0.388220      0.017017   \n",
       "2020-03-31 00:03:00  0.387491  0.387713  0.388002  0.388424      0.006512   \n",
       "2020-03-31 00:04:00  0.388706  0.388822  0.388938  0.390102      0.008228   \n",
       "\n",
       "                     Volume_(Currency)  Weighted_Price       SMA       RSI  \\\n",
       "Timestamp                                                                    \n",
       "2020-03-31 00:00:00           0.003033        0.384227  0.017614  0.320169   \n",
       "2020-03-31 00:01:00           0.005287        0.384560  0.017514  0.370988   \n",
       "2020-03-31 00:02:00           0.014283        0.386968  0.017452  0.482987   \n",
       "2020-03-31 00:03:00           0.007205        0.387528  0.017389  0.490484   \n",
       "2020-03-31 00:04:00           0.008369        0.388490  0.017396  0.547845   \n",
       "\n",
       "                         MACD   log_ret  percent_ret  \n",
       "Timestamp                                             \n",
       "2020-03-31 00:00:00  0.685930  0.519628     0.508936  \n",
       "2020-03-31 00:01:00  0.686233  0.551603     0.540999  \n",
       "2020-03-31 00:02:00  0.690373  0.574384     0.563896  \n",
       "2020-03-31 00:03:00  0.694151  0.540866     0.530223  \n",
       "2020-03-31 00:04:00  0.699569  0.560651     0.550087  "
      ]
     },
     "execution_count": 2,
     "metadata": {},
     "output_type": "execute_result"
    }
   ],
   "source": [
    "from src.data.data import DataProcessor, TimeSeriesDataset, TimeSeriesDataLoader\n",
    "\n",
    "# Preprocess data\n",
    "data_processor = DataProcessor(start='2021-03-25 00:00:00', \n",
    "                               end='2021-03-31 00:00:00', \n",
    "                               verbose=True)\n",
    "data_processor.prepare_data(filename='bitstampUSD_1-min_data_2012-01-01_to_2021-03-31.csv', \n",
    "                            exclude_columns_detrend=['SMA', 'RSI', 'MACD', 'log_ret', 'percent_ret'],\n",
    "                            exclude_columns_scale=[''])\n",
    "\n",
    "# Create dataloaders\n",
    "train_loader, val_loader, test_loader = data_processor.create_dataloaders(window=60, \n",
    "                                                                          batch_size=128,\n",
    "                                                                          exclude_input_columns=['percent_ret'])\n",
    "\n",
    "data_processor.databundle.train.head()"
   ]
  },
  {
   "cell_type": "markdown",
   "metadata": {},
   "source": [
    "Initialize model"
   ]
  },
  {
   "cell_type": "code",
   "execution_count": 3,
   "metadata": {},
   "outputs": [
    {
     "name": "stdout",
     "output_type": "stream",
     "text": [
      "==========================================================================================\n",
      "Layer (type:depth-idx)                   Output Shape              Param #\n",
      "==========================================================================================\n",
      "LSTM                                     [128, 1]                  --\n",
      "├─LSTM: 1-1                              [128, 60, 256]            801,792\n",
      "├─Sequential: 1-2                        [128, 1]                  --\n",
      "│    └─Linear: 2-1                       [128, 256]                65,792\n",
      "│    └─ReLU: 2-2                         [128, 256]                --\n",
      "│    └─Linear: 2-3                       [128, 1]                  257\n",
      "==========================================================================================\n",
      "Total params: 867,841\n",
      "Trainable params: 867,841\n",
      "Non-trainable params: 0\n",
      "Total mult-adds (G): 6.17\n",
      "==========================================================================================\n",
      "Input size (MB): 0.34\n",
      "Forward/backward pass size (MB): 15.99\n",
      "Params size (MB): 3.47\n",
      "Estimated Total Size (MB): 19.80\n",
      "==========================================================================================\n"
     ]
    }
   ],
   "source": [
    "from torchinfo import summary\n",
    "from src.model.lstm import LSTM\n",
    "\n",
    "# Input dimension\n",
    "sample_batch = next(iter(train_loader))\n",
    "sample_x, _ = sample_batch\n",
    "input_dim = sample_x.shape[2] \n",
    "\n",
    "# Initialize model\n",
    "model = LSTM(input_dim=input_dim, \n",
    "             hidden_dim=256, \n",
    "             output_dim=1, \n",
    "             num_layers=2, \n",
    "             fc_hidden_dim=256,\n",
    "             use_hn=False, \n",
    "             dropout=0.5,\n",
    "             maintain_state=True)\n",
    "\n",
    "# Print model summary\n",
    "print(summary(model, input_data=sample_x))"
   ]
  },
  {
   "cell_type": "markdown",
   "metadata": {},
   "source": [
    "Train model"
   ]
  },
  {
   "cell_type": "code",
   "execution_count": 4,
   "metadata": {},
   "outputs": [
    {
     "name": "stderr",
     "output_type": "stream",
     "text": [
      "C:\\Users\\harri\\OneDrive\\Documents\\Projects\\deep-trading-algorithm\\src\\train\\trainer.py:12: TqdmWarning: IProgress not found. Please update jupyter and ipywidgets. See https://ipywidgets.readthedocs.io/en/stable/user_install.html\n",
      "  from tqdm.autonotebook import tqdm\n"
     ]
    },
    {
     "name": "stdout",
     "output_type": "stream",
     "text": [
      "Using Device: cuda\n",
      "Training --------- Model: LSTM\n"
     ]
    },
    {
     "name": "stderr",
     "output_type": "stream",
     "text": [
      "Batch [2874/2874]\t:  99%|█████████▉| 99/100 [6:29:28<03:56, 236.04s/it, Batch Loss: 0.0002109 (0.0001139)\tLoss: 0.0001138 (0.0001173)\tVal Loss: 0.0004787 (0.0004805)]  "
     ]
    },
    {
     "name": "stdout",
     "output_type": "stream",
     "text": [
      "Early stopping due to overfitting.\n",
      "Tensorboard closed successfully.\n"
     ]
    },
    {
     "name": "stderr",
     "output_type": "stream",
     "text": [
      "\n"
     ]
    },
    {
     "data": {
      "image/png": "[encoded data removed]",
      "text/plain": [
       "<Figure size 1000x600 with 1 Axes>"
      ]
     },
     "metadata": {},
     "output_type": "display_data"
    }
   ],
   "source": [
    "from src.train.trainer import Trainer\n",
    "from src.train.utils import plot_learning_curves\n",
    "from src.utils import google_colab_handler\n",
    "\n",
    "running_in_colab, use_TPU, path, device = google_colab_handler(use_TPU=False, verbose=True)\n",
    "\n",
    "trainer = Trainer(model=model,\n",
    "                  device=device,\n",
    "                  verbose=True,\n",
    "                  running_in_colab=running_in_colab,\n",
    "                  use_TPU=use_TPU,\n",
    "                  use_tensorboard=True)\n",
    "\n",
    "trainer.train(train_loader=train_loader,\n",
    "                    val_loader=val_loader,\n",
    "                    epochs=100,\n",
    "                    lr=0.001,\n",
    "                    no_change_patience=100,\n",
    "                    overfit_patience=100,\n",
    "                    warmup=10,\n",
    "                    save_best=True)\n",
    "\n",
    "plot_learning_curves(trainer.state.train_losses, trainer.state.val_losses)"
   ]
  }
 ],
 "metadata": {
  "kernelspec": {
   "display_name": "time-series",
   "language": "python",
   "name": "python3"
  },
  "language_info": {
   "codemirror_mode": {
    "name": "ipython",
    "version": 3
   },
   "file_extension": ".py",
   "mimetype": "text/x-python",
   "name": "python",
   "nbconvert_exporter": "python",
   "pygments_lexer": "ipython3",
   "version": "3.10.13"
  }
 },
 "nbformat": 4,
 "nbformat_minor": 2
}
