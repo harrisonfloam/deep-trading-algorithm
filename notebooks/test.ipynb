{
 "cells": [
  {
   "cell_type": "code",
   "execution_count": 1,
   "metadata": {},
   "outputs": [],
   "source": [
    "%load_ext autoreload\n",
    "%autoreload 2"
   ]
  },
  {
   "cell_type": "markdown",
   "metadata": {},
   "source": [
    "Data Preprocessing and Loading"
   ]
  },
  {
   "cell_type": "code",
   "execution_count": 5,
   "metadata": {},
   "outputs": [
    {
     "name": "stdout",
     "output_type": "stream",
     "text": [
      "Data loaded --------- data/bitstampUSD_1-min_data_2012-01-01_to_2021-03-31.csv\n",
      "Using data from 2021-03-30 00:00:00 to 2021-03-31 00:00:00 with 1440 rows and 12 columns\n"
     ]
    },
    {
     "data": {
      "text/html": [
       "<div>\n",
       "<style scoped>\n",
       "    .dataframe tbody tr th:only-of-type {\n",
       "        vertical-align: middle;\n",
       "    }\n",
       "\n",
       "    .dataframe tbody tr th {\n",
       "        vertical-align: top;\n",
       "    }\n",
       "\n",
       "    .dataframe thead th {\n",
       "        text-align: right;\n",
       "    }\n",
       "</style>\n",
       "<table border=\"1\" class=\"dataframe\">\n",
       "  <thead>\n",
       "    <tr style=\"text-align: right;\">\n",
       "      <th></th>\n",
       "      <th>Open</th>\n",
       "      <th>High</th>\n",
       "      <th>Low</th>\n",
       "      <th>Close</th>\n",
       "      <th>Volume_(BTC)</th>\n",
       "      <th>Volume_(Currency)</th>\n",
       "      <th>Weighted_Price</th>\n",
       "      <th>SMA</th>\n",
       "      <th>RSI</th>\n",
       "      <th>MACD</th>\n",
       "      <th>log_ret</th>\n",
       "      <th>percent_ret</th>\n",
       "    </tr>\n",
       "    <tr>\n",
       "      <th>Timestamp</th>\n",
       "      <th></th>\n",
       "      <th></th>\n",
       "      <th></th>\n",
       "      <th></th>\n",
       "      <th></th>\n",
       "      <th></th>\n",
       "      <th></th>\n",
       "      <th></th>\n",
       "      <th></th>\n",
       "      <th></th>\n",
       "      <th></th>\n",
       "      <th></th>\n",
       "    </tr>\n",
       "  </thead>\n",
       "  <tbody>\n",
       "    <tr>\n",
       "      <th>2021-03-30 00:00:00</th>\n",
       "      <td>0.774739</td>\n",
       "      <td>0.793285</td>\n",
       "      <td>0.791302</td>\n",
       "      <td>0.808348</td>\n",
       "      <td>0.077207</td>\n",
       "      <td>0.077625</td>\n",
       "      <td>0.785713</td>\n",
       "      <td>0.254462</td>\n",
       "      <td>0.520251</td>\n",
       "      <td>0.374126</td>\n",
       "      <td>0.507335</td>\n",
       "      <td>1.512183</td>\n",
       "    </tr>\n",
       "    <tr>\n",
       "      <th>2021-03-30 00:01:00</th>\n",
       "      <td>0.746803</td>\n",
       "      <td>0.735067</td>\n",
       "      <td>0.710674</td>\n",
       "      <td>0.685440</td>\n",
       "      <td>0.030152</td>\n",
       "      <td>0.031030</td>\n",
       "      <td>0.730351</td>\n",
       "      <td>0.253190</td>\n",
       "      <td>0.235106</td>\n",
       "      <td>0.320573</td>\n",
       "      <td>0.000000</td>\n",
       "      <td>-4.122627</td>\n",
       "    </tr>\n",
       "    <tr>\n",
       "      <th>2021-03-30 00:02:00</th>\n",
       "      <td>0.672719</td>\n",
       "      <td>0.751875</td>\n",
       "      <td>0.700307</td>\n",
       "      <td>0.765878</td>\n",
       "      <td>0.071704</td>\n",
       "      <td>0.072152</td>\n",
       "      <td>0.766804</td>\n",
       "      <td>0.253666</td>\n",
       "      <td>0.419462</td>\n",
       "      <td>0.316518</td>\n",
       "      <td>0.617879</td>\n",
       "      <td>2.743318</td>\n",
       "    </tr>\n",
       "    <tr>\n",
       "      <th>2021-03-30 00:03:00</th>\n",
       "      <td>0.761304</td>\n",
       "      <td>0.765591</td>\n",
       "      <td>0.771190</td>\n",
       "      <td>0.764775</td>\n",
       "      <td>0.023572</td>\n",
       "      <td>0.024529</td>\n",
       "      <td>0.753513</td>\n",
       "      <td>0.252559</td>\n",
       "      <td>0.420015</td>\n",
       "      <td>0.313214</td>\n",
       "      <td>0.370031</td>\n",
       "      <td>-0.015307</td>\n",
       "    </tr>\n",
       "    <tr>\n",
       "      <th>2021-03-30 00:04:00</th>\n",
       "      <td>0.749900</td>\n",
       "      <td>0.759519</td>\n",
       "      <td>0.748191</td>\n",
       "      <td>0.774439</td>\n",
       "      <td>0.023224</td>\n",
       "      <td>0.024181</td>\n",
       "      <td>0.730557</td>\n",
       "      <td>0.252938</td>\n",
       "      <td>0.443036</td>\n",
       "      <td>0.315564</td>\n",
       "      <td>0.402716</td>\n",
       "      <td>0.348134</td>\n",
       "    </tr>\n",
       "  </tbody>\n",
       "</table>\n",
       "</div>"
      ],
      "text/plain": [
       "                         Open      High       Low     Close  Volume_(BTC)  \\\n",
       "Timestamp                                                                   \n",
       "2021-03-30 00:00:00  0.774739  0.793285  0.791302  0.808348      0.077207   \n",
       "2021-03-30 00:01:00  0.746803  0.735067  0.710674  0.685440      0.030152   \n",
       "2021-03-30 00:02:00  0.672719  0.751875  0.700307  0.765878      0.071704   \n",
       "2021-03-30 00:03:00  0.761304  0.765591  0.771190  0.764775      0.023572   \n",
       "2021-03-30 00:04:00  0.749900  0.759519  0.748191  0.774439      0.023224   \n",
       "\n",
       "                     Volume_(Currency)  Weighted_Price       SMA       RSI  \\\n",
       "Timestamp                                                                    \n",
       "2021-03-30 00:00:00           0.077625        0.785713  0.254462  0.520251   \n",
       "2021-03-30 00:01:00           0.031030        0.730351  0.253190  0.235106   \n",
       "2021-03-30 00:02:00           0.072152        0.766804  0.253666  0.419462   \n",
       "2021-03-30 00:03:00           0.024529        0.753513  0.252559  0.420015   \n",
       "2021-03-30 00:04:00           0.024181        0.730557  0.252938  0.443036   \n",
       "\n",
       "                         MACD   log_ret  percent_ret  \n",
       "Timestamp                                             \n",
       "2021-03-30 00:00:00  0.374126  0.507335     1.512183  \n",
       "2021-03-30 00:01:00  0.320573  0.000000    -4.122627  \n",
       "2021-03-30 00:02:00  0.316518  0.617879     2.743318  \n",
       "2021-03-30 00:03:00  0.313214  0.370031    -0.015307  \n",
       "2021-03-30 00:04:00  0.315564  0.402716     0.348134  "
      ]
     },
     "execution_count": 5,
     "metadata": {},
     "output_type": "execute_result"
    }
   ],
   "source": [
    "from src.data.data import DataProcessor, TimeSeriesDataset, TimeSeriesDataLoader\n",
    "\n",
    "# Preprocess data\n",
    "data_processor = DataProcessor(start='2021-03-30 00:00:00', \n",
    "                               end='2021-03-31 00:00:00', \n",
    "                               verbose=True)\n",
    "data_processor.prepare_data(filename='bitstampUSD_1-min_data_2012-01-01_to_2021-03-31.csv', \n",
    "                            exclude_columns_detrend=['SMA', 'RSI', 'MACD', 'log_ret', 'percent_ret'],\n",
    "                            exclude_columns_scale=[''])\n",
    "\n",
    "# Create dataloaders\n",
    "train_loader, val_loader, test_loader = data_processor.create_dataloaders(window=10, \n",
    "                                                                          batch_size=64,\n",
    "                                                                          exclude_input_columns=[''])\n",
    "\n",
    "data_processor.databundle.train.head()"
   ]
  },
  {
   "cell_type": "markdown",
   "metadata": {},
   "source": [
    "Initialize model"
   ]
  },
  {
   "cell_type": "code",
   "execution_count": 8,
   "metadata": {},
   "outputs": [
    {
     "name": "stdout",
     "output_type": "stream",
     "text": [
      "Using Device: cuda\n",
      "==========================================================================================\n",
      "Layer (type:depth-idx)                   Output Shape              Param #\n",
      "==========================================================================================\n",
      "LSTM                                     [64, 1]                   --\n",
      "├─LSTM: 1-1                              [64, 10, 256]             802,816\n",
      "├─Sequential: 1-2                        [64, 1]                   --\n",
      "│    └─Linear: 2-1                       [64, 256]                 65,792\n",
      "│    └─ReLU: 2-2                         [64, 256]                 --\n",
      "│    └─Linear: 2-3                       [64, 1]                   257\n",
      "==========================================================================================\n",
      "Total params: 868,865\n",
      "Trainable params: 868,865\n",
      "Non-trainable params: 0\n",
      "Total mult-adds (M): 518.03\n",
      "==========================================================================================\n",
      "Input size (MB): 0.03\n",
      "Forward/backward pass size (MB): 1.44\n",
      "Params size (MB): 3.48\n",
      "Estimated Total Size (MB): 4.95\n",
      "==========================================================================================\n"
     ]
    }
   ],
   "source": [
    "from torchinfo import summary\n",
    "from src.model.lstm import LSTM\n",
    "\n",
    "# Input dimension\n",
    "sample_batch = next(iter(train_loader))\n",
    "sample_x, _ = sample_batch\n",
    "input_dim = sample_x.shape[2] \n",
    "\n",
    "# Initialize model\n",
    "model = LSTM(input_dim=input_dim, \n",
    "             hidden_dim=256, \n",
    "             output_dim=1, \n",
    "             num_layers=2, \n",
    "             fc_hidden_dim=256,\n",
    "             use_hn=False, \n",
    "             dropout=0.5,\n",
    "             maintain_state=False)\n",
    "\n",
    "# Print model summary\n",
    "print(summary(model, input_data=sample_x))"
   ]
  },
  {
   "cell_type": "markdown",
   "metadata": {},
   "source": [
    "Train model"
   ]
  },
  {
   "cell_type": "code",
   "execution_count": 12,
   "metadata": {},
   "outputs": [
    {
     "name": "stdout",
     "output_type": "stream",
     "text": [
      "Training --------- Model: LSTM\n"
     ]
    },
    {
     "name": "stderr",
     "output_type": "stream",
     "text": [
      "Batch [16/16]\t:  24%|██▍       | 12/50 [00:10<00:33,  1.13it/s, Batch Loss: 0.7865 (0.9422)\tLoss: 0.9479 (0.9546)\tVal Loss: 0.5279 (0.5098)]\n"
     ]
    },
    {
     "name": "stdout",
     "output_type": "stream",
     "text": [
      "Early stopping due to no improvement in validation loss.\n"
     ]
    },
    {
     "data": {
      "image/png": "[encoded data removed]",
      "text/plain": [
       "<Figure size 1000x600 with 1 Axes>"
      ]
     },
     "metadata": {},
     "output_type": "display_data"
    }
   ],
   "source": [
    "from src.train.trainer import Trainer\n",
    "from src.train.utils import plot_learning_curves\n",
    "from src.utils import google_colab_handler\n",
    "\n",
    "running_in_colab, use_TPU, path, device = google_colab_handler(use_TPU=False, verbose=True)\n",
    "\n",
    "trainer = Trainer(model=model,\n",
    "                  device=device,\n",
    "                  verbose=True,\n",
    "                  running_in_colab=running_in_colab,\n",
    "                  use_TPU=use_TPU,\n",
    "                  use_tensorboard=False)\n",
    "\n",
    "trainer.train(train_loader=train_loader,\n",
    "                    val_loader=val_loader,\n",
    "                    epochs=50,\n",
    "                    lr=0.001,\n",
    "                    no_change_patience=10,\n",
    "                    overfit_patience=100,\n",
    "                    warmup=10,\n",
    "                    save_best=True)\n",
    "\n",
    "plot_learning_curves(trainer.state.train_losses, trainer.state.val_losses)"
   ]
  }
 ],
 "metadata": {
  "kernelspec": {
   "display_name": "time-series",
   "language": "python",
   "name": "python3"
  },
  "language_info": {
   "codemirror_mode": {
    "name": "ipython",
    "version": 3
   },
   "file_extension": ".py",
   "mimetype": "text/x-python",
   "name": "python",
   "nbconvert_exporter": "python",
   "pygments_lexer": "ipython3",
   "version": "3.10.13"
  }
 },
 "nbformat": 4,
 "nbformat_minor": 2
}
