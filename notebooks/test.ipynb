{
 "cells": [
  {
   "cell_type": "code",
   "execution_count": 1,
   "metadata": {},
   "outputs": [],
   "source": [
    "%load_ext autoreload\n",
    "%autoreload 2"
   ]
  },
  {
   "cell_type": "markdown",
   "metadata": {},
   "source": [
    "Data Preprocessing and Loading"
   ]
  },
  {
   "cell_type": "code",
   "execution_count": 3,
   "metadata": {},
   "outputs": [
    {
     "name": "stdout",
     "output_type": "stream",
     "text": [
      "Data loaded --------- data/bitstampUSD_1-min_data_2012-01-01_to_2021-03-31.csv\n",
      "Using data from 2021-03-30 00:00:00 to 2021-03-31 00:00:00 with 1440 rows and 12 columns\n",
      "                         Open      High       Low     Close  Volume_(BTC)  \\\n",
      "Timestamp                                                                   \n",
      "2021-03-30 00:00:00  0.774739  0.793285  0.791302  0.808348      0.077207   \n",
      "2021-03-30 00:01:00  0.746803  0.735067  0.710674  0.685440      0.030152   \n",
      "2021-03-30 00:02:00  0.672719  0.751875  0.700307  0.765878      0.071704   \n",
      "2021-03-30 00:03:00  0.761304  0.765591  0.771190  0.764775      0.023572   \n",
      "2021-03-30 00:04:00  0.749900  0.759519  0.748191  0.774439      0.023224   \n",
      "\n",
      "                     Volume_(Currency)  Weighted_Price       SMA       RSI  \\\n",
      "Timestamp                                                                    \n",
      "2021-03-30 00:00:00           0.077625        0.785713  0.254462  0.520251   \n",
      "2021-03-30 00:01:00           0.031030        0.730351  0.253190  0.235106   \n",
      "2021-03-30 00:02:00           0.072152        0.766804  0.253666  0.419462   \n",
      "2021-03-30 00:03:00           0.024529        0.753513  0.252559  0.420015   \n",
      "2021-03-30 00:04:00           0.024181        0.730557  0.252938  0.443036   \n",
      "\n",
      "                         MACD   log_ret  percent_ret  \n",
      "Timestamp                                             \n",
      "2021-03-30 00:00:00  0.374126  0.001223     1.512183  \n",
      "2021-03-30 00:01:00  0.320573 -0.003268    -4.122627  \n",
      "2021-03-30 00:02:00  0.316518  0.002201     2.743318  \n",
      "2021-03-30 00:03:00  0.313214  0.000007    -0.015307  \n",
      "2021-03-30 00:04:00  0.315564  0.000297     0.348134  \n"
     ]
    }
   ],
   "source": [
    "from src.data.data import DataProcessor, TimeSeriesDataset, TimeSeriesDataLoader\n",
    "\n",
    "# Preprocess data\n",
    "data_processor = DataProcessor(start='2021-03-30 00:00:00', \n",
    "                               end='2021-03-31 00:00:00', \n",
    "                               verbose=True)\n",
    "data_processor.prepare_data(filename='bitstampUSD_1-min_data_2012-01-01_to_2021-03-31.csv', \n",
    "                            exclude_columns_detrend=['SMA', 'RSI', 'MACD', 'log_ret', 'percent_ret'],\n",
    "                            exclude_columns_scale=['log_ret'])\n",
    "\n",
    "# # Create dataloaders\n",
    "train_loader, val_loader, test_loader = data_processor.create_dataloaders(window=10, \n",
    "                                                                          batch_size=64,\n",
    "                                                                          exclude_input_columns=[''])\n",
    "\n",
    "data_processor.databundle.train.head()"
   ]
  }
 ],
 "metadata": {
  "kernelspec": {
   "display_name": "time-series",
   "language": "python",
   "name": "python3"
  },
  "language_info": {
   "codemirror_mode": {
    "name": "ipython",
    "version": 3
   },
   "file_extension": ".py",
   "mimetype": "text/x-python",
   "name": "python",
   "nbconvert_exporter": "python",
   "pygments_lexer": "ipython3",
   "version": "3.10.13"
  }
 },
 "nbformat": 4,
 "nbformat_minor": 2
}
