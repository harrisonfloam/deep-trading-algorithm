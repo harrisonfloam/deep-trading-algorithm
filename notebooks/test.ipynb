{
 "cells": [
  {
   "cell_type": "code",
   "execution_count": 1,
   "metadata": {},
   "outputs": [],
   "source": [
    "%load_ext autoreload\n",
    "%autoreload 2"
   ]
  },
  {
   "cell_type": "markdown",
   "metadata": {},
   "source": [
    "Data Preprocessing and Loading"
   ]
  },
  {
   "cell_type": "code",
   "execution_count": 2,
   "metadata": {},
   "outputs": [
    {
     "name": "stdout",
     "output_type": "stream",
     "text": [
      "Data loaded --------- data/bitstampUSD_1-min_data_2012-01-01_to_2021-03-31.csv\n",
      "Using data from 2021-03-25 00:00:00 to 2021-03-31 00:00:00 with 8640 rows and 12 columns\n"
     ]
    },
    {
     "data": {
      "text/html": [
       "<div>\n",
       "<style scoped>\n",
       "    .dataframe tbody tr th:only-of-type {\n",
       "        vertical-align: middle;\n",
       "    }\n",
       "\n",
       "    .dataframe tbody tr th {\n",
       "        vertical-align: top;\n",
       "    }\n",
       "\n",
       "    .dataframe thead th {\n",
       "        text-align: right;\n",
       "    }\n",
       "</style>\n",
       "<table border=\"1\" class=\"dataframe\">\n",
       "  <thead>\n",
       "    <tr style=\"text-align: right;\">\n",
       "      <th></th>\n",
       "      <th>Open</th>\n",
       "      <th>High</th>\n",
       "      <th>Low</th>\n",
       "      <th>Close</th>\n",
       "      <th>Volume_(BTC)</th>\n",
       "      <th>Volume_(Currency)</th>\n",
       "      <th>Weighted_Price</th>\n",
       "      <th>SMA</th>\n",
       "      <th>RSI</th>\n",
       "      <th>MACD</th>\n",
       "      <th>log_ret</th>\n",
       "      <th>percent_ret</th>\n",
       "    </tr>\n",
       "    <tr>\n",
       "      <th>Timestamp</th>\n",
       "      <th></th>\n",
       "      <th></th>\n",
       "      <th></th>\n",
       "      <th></th>\n",
       "      <th></th>\n",
       "      <th></th>\n",
       "      <th></th>\n",
       "      <th></th>\n",
       "      <th></th>\n",
       "      <th></th>\n",
       "      <th></th>\n",
       "      <th></th>\n",
       "    </tr>\n",
       "  </thead>\n",
       "  <tbody>\n",
       "    <tr>\n",
       "      <th>2021-03-25 00:00:00</th>\n",
       "      <td>0.729207</td>\n",
       "      <td>0.733756</td>\n",
       "      <td>0.725159</td>\n",
       "      <td>0.750210</td>\n",
       "      <td>0.213251</td>\n",
       "      <td>0.219680</td>\n",
       "      <td>0.722782</td>\n",
       "      <td>0.327139</td>\n",
       "      <td>0.330301</td>\n",
       "      <td>0.440877</td>\n",
       "      <td>0.598433</td>\n",
       "      <td>0.596927</td>\n",
       "    </tr>\n",
       "    <tr>\n",
       "      <th>2021-03-25 00:01:00</th>\n",
       "      <td>0.731894</td>\n",
       "      <td>0.706903</td>\n",
       "      <td>0.691850</td>\n",
       "      <td>0.706159</td>\n",
       "      <td>0.120969</td>\n",
       "      <td>0.124426</td>\n",
       "      <td>0.699842</td>\n",
       "      <td>0.321779</td>\n",
       "      <td>0.254149</td>\n",
       "      <td>0.408615</td>\n",
       "      <td>0.275977</td>\n",
       "      <td>0.274726</td>\n",
       "    </tr>\n",
       "    <tr>\n",
       "      <th>2021-03-25 00:02:00</th>\n",
       "      <td>0.704679</td>\n",
       "      <td>0.680774</td>\n",
       "      <td>0.681653</td>\n",
       "      <td>0.675087</td>\n",
       "      <td>0.011959</td>\n",
       "      <td>0.012273</td>\n",
       "      <td>0.674946</td>\n",
       "      <td>0.314557</td>\n",
       "      <td>0.209386</td>\n",
       "      <td>0.369303</td>\n",
       "      <td>0.343152</td>\n",
       "      <td>0.341740</td>\n",
       "    </tr>\n",
       "    <tr>\n",
       "      <th>2021-03-25 00:03:00</th>\n",
       "      <td>0.665849</td>\n",
       "      <td>0.656457</td>\n",
       "      <td>0.647186</td>\n",
       "      <td>0.682978</td>\n",
       "      <td>0.121361</td>\n",
       "      <td>0.124407</td>\n",
       "      <td>0.648567</td>\n",
       "      <td>0.308074</td>\n",
       "      <td>0.235800</td>\n",
       "      <td>0.345230</td>\n",
       "      <td>0.546499</td>\n",
       "      <td>0.544946</td>\n",
       "    </tr>\n",
       "    <tr>\n",
       "      <th>2021-03-25 00:04:00</th>\n",
       "      <td>0.671666</td>\n",
       "      <td>0.724024</td>\n",
       "      <td>0.684280</td>\n",
       "      <td>0.752804</td>\n",
       "      <td>0.124708</td>\n",
       "      <td>0.128321</td>\n",
       "      <td>0.704886</td>\n",
       "      <td>0.303359</td>\n",
       "      <td>0.426979</td>\n",
       "      <td>0.365662</td>\n",
       "      <td>0.869006</td>\n",
       "      <td>0.868292</td>\n",
       "    </tr>\n",
       "  </tbody>\n",
       "</table>\n",
       "</div>"
      ],
      "text/plain": [
       "                         Open      High       Low     Close  Volume_(BTC)  \\\n",
       "Timestamp                                                                   \n",
       "2021-03-25 00:00:00  0.729207  0.733756  0.725159  0.750210      0.213251   \n",
       "2021-03-25 00:01:00  0.731894  0.706903  0.691850  0.706159      0.120969   \n",
       "2021-03-25 00:02:00  0.704679  0.680774  0.681653  0.675087      0.011959   \n",
       "2021-03-25 00:03:00  0.665849  0.656457  0.647186  0.682978      0.121361   \n",
       "2021-03-25 00:04:00  0.671666  0.724024  0.684280  0.752804      0.124708   \n",
       "\n",
       "                     Volume_(Currency)  Weighted_Price       SMA       RSI  \\\n",
       "Timestamp                                                                    \n",
       "2021-03-25 00:00:00           0.219680        0.722782  0.327139  0.330301   \n",
       "2021-03-25 00:01:00           0.124426        0.699842  0.321779  0.254149   \n",
       "2021-03-25 00:02:00           0.012273        0.674946  0.314557  0.209386   \n",
       "2021-03-25 00:03:00           0.124407        0.648567  0.308074  0.235800   \n",
       "2021-03-25 00:04:00           0.128321        0.704886  0.303359  0.426979   \n",
       "\n",
       "                         MACD   log_ret  percent_ret  \n",
       "Timestamp                                             \n",
       "2021-03-25 00:00:00  0.440877  0.598433     0.596927  \n",
       "2021-03-25 00:01:00  0.408615  0.275977     0.274726  \n",
       "2021-03-25 00:02:00  0.369303  0.343152     0.341740  \n",
       "2021-03-25 00:03:00  0.345230  0.546499     0.544946  \n",
       "2021-03-25 00:04:00  0.365662  0.869006     0.868292  "
      ]
     },
     "execution_count": 2,
     "metadata": {},
     "output_type": "execute_result"
    }
   ],
   "source": [
    "from src.data.data import DataProcessor, TimeSeriesDataset, TimeSeriesDataLoader\n",
    "\n",
    "# Preprocess data\n",
    "data_processor = DataProcessor(start='2021-03-25 00:00:00', \n",
    "                               end='2021-03-31 00:00:00', \n",
    "                               verbose=True)\n",
    "data_processor.prepare_data(filename='bitstampUSD_1-min_data_2012-01-01_to_2021-03-31.csv', \n",
    "                            exclude_columns_detrend=['SMA', 'RSI', 'MACD', 'log_ret', 'percent_ret'],\n",
    "                            exclude_columns_scale=[''])\n",
    "\n",
    "# Create dataloaders\n",
    "train_loader, val_loader, test_loader = data_processor.create_dataloaders(window=60, \n",
    "                                                                          batch_size=128,\n",
    "                                                                          exclude_input_columns=['percent_ret'])\n",
    "\n",
    "data_processor.databundle.train.head()"
   ]
  },
  {
   "cell_type": "markdown",
   "metadata": {},
   "source": [
    "Initialize model"
   ]
  },
  {
   "cell_type": "code",
   "execution_count": 3,
   "metadata": {},
   "outputs": [
    {
     "name": "stdout",
     "output_type": "stream",
     "text": [
      "==========================================================================================\n",
      "Layer (type:depth-idx)                   Output Shape              Param #\n",
      "==========================================================================================\n",
      "LSTM                                     [128, 1]                  --\n",
      "├─LSTM: 1-1                              [128, 60, 256]            801,792\n",
      "├─Sequential: 1-2                        [128, 1]                  --\n",
      "│    └─Linear: 2-1                       [128, 256]                65,792\n",
      "│    └─ReLU: 2-2                         [128, 256]                --\n",
      "│    └─Linear: 2-3                       [128, 1]                  257\n",
      "==========================================================================================\n",
      "Total params: 867,841\n",
      "Trainable params: 867,841\n",
      "Non-trainable params: 0\n",
      "Total mult-adds (G): 6.17\n",
      "==========================================================================================\n",
      "Input size (MB): 0.34\n",
      "Forward/backward pass size (MB): 15.99\n",
      "Params size (MB): 3.47\n",
      "Estimated Total Size (MB): 19.80\n",
      "==========================================================================================\n"
     ]
    }
   ],
   "source": [
    "from torchinfo import summary\n",
    "from src.model.lstm import LSTM\n",
    "\n",
    "# Input dimension\n",
    "sample_batch = next(iter(train_loader))\n",
    "sample_x, _ = sample_batch\n",
    "input_dim = sample_x.shape[2] \n",
    "\n",
    "# Initialize model\n",
    "model = LSTM(input_dim=input_dim, \n",
    "             hidden_dim=256, \n",
    "             output_dim=1, \n",
    "             num_layers=2, \n",
    "             fc_hidden_dim=256,\n",
    "             use_hn=False, \n",
    "             dropout=0.5,\n",
    "             maintain_state=True)\n",
    "\n",
    "# Print model summary\n",
    "print(summary(model, input_data=sample_x))"
   ]
  },
  {
   "cell_type": "markdown",
   "metadata": {},
   "source": [
    "Train model"
   ]
  },
  {
   "cell_type": "code",
   "execution_count": 4,
   "metadata": {},
   "outputs": [
    {
     "name": "stderr",
     "output_type": "stream",
     "text": [
      "C:\\Users\\harri\\OneDrive\\Documents\\Projects\\deep-trading-algorithm\\src\\train\\trainer.py:12: TqdmWarning: IProgress not found. Please update jupyter and ipywidgets. See https://ipywidgets.readthedocs.io/en/stable/user_install.html\n",
      "  from tqdm.autonotebook import tqdm\n"
     ]
    },
    {
     "name": "stdout",
     "output_type": "stream",
     "text": [
      "Using Device: cuda\n",
      "Training --------- Model: LSTM\n"
     ]
    },
    {
     "name": "stderr",
     "output_type": "stream",
     "text": [
      "Batch [47/47]\t: 100%|██████████| 100/100 [08:02<00:00,  4.82s/it, Batch Loss: 0.002981 (0.006908)\tLoss: 0.006918 (0.00717)\tVal Loss: 0.003516 (0.004526)]\n"
     ]
    },
    {
     "name": "stdout",
     "output_type": "stream",
     "text": [
      "Tensorboard closed successfully.\n"
     ]
    },
    {
     "data": {
      "image/png": "[encoded data removed]",
      "text/plain": [
       "<Figure size 1000x600 with 1 Axes>"
      ]
     },
     "metadata": {},
     "output_type": "display_data"
    }
   ],
   "source": [
    "from src.train.trainer import Trainer\n",
    "from src.train.utils import plot_learning_curves\n",
    "from src.utils import google_colab_handler\n",
    "\n",
    "running_in_colab, use_TPU, path, device = google_colab_handler(use_TPU=False, verbose=True)\n",
    "\n",
    "trainer = Trainer(model=model,\n",
    "                  device=device,\n",
    "                  verbose=True,\n",
    "                  running_in_colab=running_in_colab,\n",
    "                  use_TPU=use_TPU,\n",
    "                  use_tensorboard=True)\n",
    "\n",
    "trainer.train(train_loader=train_loader,\n",
    "                    val_loader=val_loader,\n",
    "                    epochs=100,\n",
    "                    lr=0.001,\n",
    "                    no_change_patience=100,\n",
    "                    overfit_patience=100,\n",
    "                    warmup=10,\n",
    "                    save_best=True)\n",
    "\n",
    "plot_learning_curves(trainer.state.train_losses, trainer.state.val_losses)"
   ]
  }
 ],
 "metadata": {
  "kernelspec": {
   "display_name": "time-series",
   "language": "python",
   "name": "python3"
  },
  "language_info": {
   "codemirror_mode": {
    "name": "ipython",
    "version": 3
   },
   "file_extension": ".py",
   "mimetype": "text/x-python",
   "name": "python",
   "nbconvert_exporter": "python",
   "pygments_lexer": "ipython3",
   "version": "3.10.13"
  }
 },
 "nbformat": 4,
 "nbformat_minor": 2
}
